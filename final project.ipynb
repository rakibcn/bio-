{
 "cells": [
  {
   "cell_type": "code",
   "execution_count": 7,
   "id": "ceb40dc0-98a1-40ac-bec3-4b9bd3a19011",
   "metadata": {},
   "outputs": [],
   "source": [
    "# Import necessary libraries\n",
    "import pandas as pd\n",
    "import numpy as np\n",
    "import matplotlib.pyplot as plt\n",
    "import seaborn as sns"
   ]
  },
  {
   "cell_type": "code",
   "execution_count": 9,
   "id": "8e3aeaaf-a91f-4e46-8107-a3171ea20594",
   "metadata": {},
   "outputs": [],
   "source": [
    "# Load the dataset\n",
    "df = pd.read_csv('GSE272639_Apc_SI_series_raw_counts.csv.gz')"
   ]
  },
  {
   "cell_type": "code",
   "execution_count": 11,
   "id": "5f0d938c-a298-4164-a154-92855312a2ba",
   "metadata": {},
   "outputs": [
    {
     "name": "stdout",
     "output_type": "stream",
     "text": [
      "  Gene_Symbol          ENSEMBL_ID  WT_Apc_KRas_LZR18181128_S4  \\\n",
      "0       Gnai3  ENSMUSG00000000001                        4372   \n",
      "1       Cdc45  ENSMUSG00000000028                         537   \n",
      "2         H19  ENSMUSG00000000031                         128   \n",
      "3       Scml2  ENSMUSG00000000037                          23   \n",
      "4        Apoh  ENSMUSG00000000049                           9   \n",
      "\n",
      "   WT_Apc_KRas_LZR18181128_S2  WT_Apc_KRas_LZR18181128_S3  \\\n",
      "0                        4305                        4060   \n",
      "1                         550                         426   \n",
      "2                         107                          88   \n",
      "3                          17                          18   \n",
      "4                           2                           2   \n",
      "\n",
      "   WT_Apc_KRas_LZR18181128_S6  WT_Apc_KRas_LZR18181128_S7  \\\n",
      "0                        5658                        4736   \n",
      "1                         643                         475   \n",
      "2                          76                         205   \n",
      "3                           7                          12   \n",
      "4                          10                           4   \n",
      "\n",
      "   WT_Apc_KRas_LZR18181128_S5  WT_Apc_KRas_LZR18181128_S8  \\\n",
      "0                        5794                        4164   \n",
      "1                         467                         351   \n",
      "2                          37                          26   \n",
      "3                           3                           2   \n",
      "4                          10                           7   \n",
      "\n",
      "   WT_Apc_KRas_LZR18181128_S21  ...  RIAE21_4c_S15  RIAE21_4d_S16  \\\n",
      "0                         4752  ...           5258           6616   \n",
      "1                          579  ...            527            779   \n",
      "2                          160  ...            183            195   \n",
      "3                            3  ...             24             41   \n",
      "4                            7  ...              8              7   \n",
      "\n",
      "   RIAE20_4a_S17  RIAE26_4a_S18  RIAE20_1a_S19  RIAE21_1a_S20  RIAE21_1b_S21  \\\n",
      "0           6681           2230           4996            949           5585   \n",
      "1            727            266            487            102            575   \n",
      "2            131             44             14              8             20   \n",
      "3             15              1              4              0              5   \n",
      "4              5              2              7              0              7   \n",
      "\n",
      "   RIAE21_5c_S22  RIAE21_5d_S23  RIAE26_1h_S24  \n",
      "0           5368           1007           3039  \n",
      "1            510             92            247  \n",
      "2            278             26             98  \n",
      "3             21              2             19  \n",
      "4              8              3              3  \n",
      "\n",
      "[5 rows x 49 columns]\n"
     ]
    }
   ],
   "source": [
    "# Display the first few rows of the dataset\n",
    "print(df.head())"
   ]
  },
  {
   "cell_type": "code",
   "execution_count": null,
   "id": "6fbd5f6a-0f30-473e-a5b3-077b1c07c486",
   "metadata": {},
   "outputs": [],
   "source": [
    "# Check for missing values\n",
    "print(df.isnull().sum())"
   ]
  },
  {
   "cell_type": "code",
   "execution_count": null,
   "id": "1b9b2e70-df83-4b5c-84a7-39186e8411df",
   "metadata": {},
   "outputs": [],
   "source": [
    "# Handle missing values (example: fill with mean for numerical columns)\n",
    "df.fillna(df.mean(), inplace=True)"
   ]
  },
  {
   "cell_type": "code",
   "execution_count": null,
   "id": "3062544b-4ebe-4b32-97b3-6670afb99aeb",
   "metadata": {},
   "outputs": [],
   "source": [
    "# Encode categorical variables (example: PIK3CA mutation status)\n",
    "df['PIK3CA_mutation'] = df['PIK3CA_mutation'].map({'Yes': 1, 'No': 0})"
   ]
  },
  {
   "cell_type": "code",
   "execution_count": null,
   "id": "d474f0cb-1027-4fe8-bae7-bb9bf3b644f5",
   "metadata": {},
   "outputs": [],
   "source": [
    "# Normalize numerical features (example: if there are numerical features)\n",
    "from sklearn.preprocessing import MinMaxScaler\n",
    "scaler = MinMaxScaler()\n",
    "df[['feature1', 'feature2']] = scaler.fit_transform(df[['feature1', 'feature2']])"
   ]
  },
  {
   "cell_type": "code",
   "execution_count": null,
   "id": "0589f234-c79e-44ca-84f8-cd697da89e14",
   "metadata": {},
   "outputs": [],
   "source": [
    "# Data Visualization\n",
    "# Bar plot for PIK3CA mutations across cancer types\n",
    "plt.figure(figsize=(10, 6))\n",
    "sns.countplot(data=df, x='cancer_type', hue='PIK3CA_mutation')\n",
    "plt.title('Distribution of PIK3CA Mutations Across Cancer Types')\n",
    "plt.xlabel('Cancer Type')\n",
    "plt.ylabel('Count')\n",
    "plt.legend(title='PIK3CA Mutation', loc='upper right', labels=['No', 'Yes'])\n",
    "plt.xticks(rotation=45)\n",
    "plt.tight_layout()\n",
    "plt.show()"
   ]
  },
  {
   "cell_type": "code",
   "execution_count": null,
   "id": "b6efcb9c-126e-466c-b528-dfff33d9f559",
   "metadata": {},
   "outputs": [],
   "source": [
    "# Box plot for survival time based on PIK3CA mutation status\n",
    "plt.figure(figsize=(10, 6))\n",
    "sns.boxplot(data=df, x='PIK3CA_mutation', y='survival_time')\n",
    "plt.title('Survival Time Based on PIK3CA Mutation Status')\n",
    "plt.xlabel('PIK3CA Mutation')\n",
    "plt.ylabel('Survival Time (days)')\n",
    "plt.xticks(ticks=[0, 1], labels=['No', 'Yes'])\n",
    "plt.show()"
   ]
  }
 ],
 "metadata": {
  "kernelspec": {
   "display_name": "Python 3 (ipykernel)",
   "language": "python",
   "name": "python3"
  },
  "language_info": {
   "codemirror_mode": {
    "name": "ipython",
    "version": 3
   },
   "file_extension": ".py",
   "mimetype": "text/x-python",
   "name": "python",
   "nbconvert_exporter": "python",
   "pygments_lexer": "ipython3",
   "version": "3.12.7"
  }
 },
 "nbformat": 4,
 "nbformat_minor": 5
}
